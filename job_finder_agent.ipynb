{
 "cells": [
  {
   "cell_type": "code",
   "execution_count": 17,
   "id": "43c5317c",
   "metadata": {},
   "outputs": [],
   "source": [
    "# Imports\n",
    "\n",
    "import os\n",
    "import ollama\n",
    "import requests\n",
    "from bs4 import BeautifulSoup\n",
    "from IPython.display import Markdown, display"
   ]
  },
  {
   "cell_type": "code",
   "execution_count": 18,
   "id": "f8ca115b-f63e-42d3-9c5d-bf5d913ecf92",
   "metadata": {},
   "outputs": [
    {
     "name": "stdout",
     "output_type": "stream",
     "text": [
      "/Users/robinwarden/Desktop/Projects/job-copilot/job-copilot/bin/python\n"
     ]
    }
   ],
   "source": [
    "import sys\n",
    "print(sys.executable)"
   ]
  },
  {
   "cell_type": "code",
   "execution_count": 19,
   "id": "9076762a",
   "metadata": {},
   "outputs": [],
   "source": [
    "# Constants\n",
    "\n",
    "OLLAMA_API = \"http://localhost:11434/api/chat\"\n",
    "HEADERS = {\"Content-Type\": \"application/json\"}\n",
    "MODEL = \"llama3.2\""
   ]
  },
  {
   "cell_type": "code",
   "execution_count": 20,
   "id": "badd1d1b",
   "metadata": {},
   "outputs": [],
   "source": [
    "# Create a messages list using the same format that we used for OpenAI\n",
    "\n",
    "messages = [\n",
    "    {\"role\": \"user\", \"content\": \"Say hello to Robin!\"}\n",
    "]"
   ]
  },
  {
   "cell_type": "code",
   "execution_count": 21,
   "id": "b26b25f5",
   "metadata": {},
   "outputs": [],
   "source": [
    "payload = {\n",
    "        \"model\": MODEL,\n",
    "        \"messages\": messages,\n",
    "        \"stream\": False\n",
    "    }"
   ]
  },
  {
   "cell_type": "code",
   "execution_count": 22,
   "id": "9d85342e",
   "metadata": {},
   "outputs": [
    {
     "name": "stdout",
     "output_type": "stream",
     "text": [
      "\u001b[?2026h\u001b[?25l\u001b[1Gpulling manifest ⠋ \u001b[K\u001b[?25h\u001b[?2026l\u001b[?2026h\u001b[?25l\u001b[1Gpulling manifest ⠙ \u001b[K\u001b[?25h\u001b[?2026l\u001b[?2026h\u001b[?25l\u001b[1Gpulling manifest ⠹ \u001b[K\u001b[?25h\u001b[?2026l\u001b[?2026h\u001b[?25l\u001b[1Gpulling manifest ⠸ \u001b[K\u001b[?25h\u001b[?2026l\u001b[?2026h\u001b[?25l\u001b[1Gpulling manifest \u001b[K\n",
      "pulling dde5aa3fc5ff: 100% ▕██████████████████▏ 2.0 GB                         \u001b[K\n",
      "pulling 966de95ca8a6: 100% ▕██████████████████▏ 1.4 KB                         \u001b[K\n",
      "pulling fcc5a6bec9da: 100% ▕██████████████████▏ 7.7 KB                         \u001b[K\n",
      "pulling a70ff7e570d9: 100% ▕██████████████████▏ 6.0 KB                         \u001b[K\n",
      "pulling 56bb8bd477a5: 100% ▕██████████████████▏   96 B                         \u001b[K\n",
      "pulling 34bb5ab01051: 100% ▕██████████████████▏  561 B                         \u001b[K\n",
      "verifying sha256 digest \u001b[K\n",
      "writing manifest \u001b[K\n",
      "success \u001b[K\u001b[?25h\u001b[?2026l\n"
     ]
    }
   ],
   "source": [
    "# Let's just make sure the model is loaded\n",
    "\n",
    "!ollama pull llama3.2"
   ]
  },
  {
   "cell_type": "code",
   "execution_count": 23,
   "id": "caaf15a5",
   "metadata": {},
   "outputs": [
    {
     "name": "stdout",
     "output_type": "stream",
     "text": [
      "Hello to Robin too! I don't know who Robin is, though. Is it a friend or someone you'd like to talk about?\n"
     ]
    }
   ],
   "source": [
    "response = requests.post(OLLAMA_API, json=payload, headers=HEADERS)\n",
    "print(response.json()['message']['content'])"
   ]
  },
  {
   "cell_type": "code",
   "execution_count": 24,
   "id": "b64716aa",
   "metadata": {},
   "outputs": [],
   "source": [
    "# 🏗️ Class to represent a job listing webpage\n",
    "\n",
    "headers = {\n",
    " \"User-Agent\": \"Mozilla/5.0 (Windows NT 10.0; Win64; x64) AppleWebKit/537.36 (KHTML, like Gecko) Chrome/117.0.0.0 Safari/537.36\"\n",
    "}\n",
    "\n",
    "class Job_Platform:\n",
    "    def __init__(self, url):\n",
    "        self.url = url\n",
    "        response = requests.get(url, headers=headers)\n",
    "        soup = BeautifulSoup(response.content, 'html.parser')\n",
    "        self.title = soup.title.string if soup.title else \"No title found\"\n",
    "\n",
    "        # Remove unwanted tags\n",
    "        for irrelevant in soup.body([\"script\", \"style\", \"img\", \"input\"]):\n",
    "            irrelevant.decompose()\n",
    "\n",
    "        self.text = soup.body.get_text(separator=\"\\n\", strip=True)\n"
   ]
  },
  {
   "cell_type": "code",
   "execution_count": 25,
   "id": "f8039e31",
   "metadata": {},
   "outputs": [],
   "source": [
    "# 💬 Build a user prompt from the job listing\n",
    "def user_prompt_for(job_listing):\n",
    "    user_prompt = f\"You are looking at a job listing titled: {job_listing.title}\\n\"\n",
    "    user_prompt += \"The contents of this listing are as follows. Please provide a short summary in markdown format. \\\n",
    "If there are job requirements, duties, or application instructions, highlight them:\\n\\n\"\n",
    "    user_prompt += job_listing.text\n",
    "    return user_prompt\n"
   ]
  },
  {
   "cell_type": "code",
   "execution_count": 26,
   "id": "bb79c688",
   "metadata": {},
   "outputs": [],
   "source": [
    "# 🧠 Send the user/system prompt to OpenAI\n",
    "def ask_ollama(system_prompt, user_prompt, model=MODEL):\n",
    "    response = ollama.chat(\n",
    "        model=model,\n",
    "        messages=[\n",
    "            {\"role\": \"system\", \"content\": system_prompt},\n",
    "            {\"role\": \"user\", \"content\": user_prompt},\n",
    "        ]\n",
    "    )\n",
    "    return response['message']['content']\n"
   ]
  },
  {
   "cell_type": "code",
   "execution_count": 27,
   "id": "16558a02",
   "metadata": {},
   "outputs": [],
   "source": [
    "# 📂 Load resume from file\n",
    "with open(\"resume.txt\", \"r\") as file:\n",
    "    my_resume = file.read()\n"
   ]
  },
  {
   "cell_type": "code",
   "execution_count": 28,
   "id": "e37f2b42",
   "metadata": {},
   "outputs": [
    {
     "name": "stdout",
     "output_type": "stream",
     "text": [
      " \n",
      "Robin Warden\n",
      "Software Engineer | Frontend & API Developer | AI Automation Enthusiast\n",
      "Lawrenceville, GA       \n",
      "(470) 406-1714     \n",
      "Email| LinkedIn | GitHub | Portfolio\n",
      "\n",
      "+Professional Summary\n",
      "\n",
      "Creative and AI-native Frontend Developer with 3+ years of experience building scalable web and mobile interfaces using React, TypeScript, HTML/CSS, and modern CSS frameworks including Styled Components, Bootstrap, and Tailwind CSS. SME-level React engineer with a strong focus on component reusability, sca\n"
     ]
    }
   ],
   "source": [
    "print(my_resume[:500])  # Show the first 500 characters to make sure it loaded\n"
   ]
  },
  {
   "cell_type": "code",
   "execution_count": 31,
   "id": "96d2be34",
   "metadata": {},
   "outputs": [],
   "source": [
    "# 📝 Define the system's behavior\n",
    "system_prompt = (\n",
    "    \"You are a helpful job-matching assistant. \"\n",
    "    \"Given a job listing and the candidate's resume, return the following:\\n\"\n",
    "    \"1. A match score from 0 to 100\\n\"\n",
    "    \"2. A short explanation of the score\\n\"\n",
    "    \"3. Highlight key overlapping skills or experience\\n\"\n",
    "    \"Be honest if the resume is not a strong fit.\"\n",
    ")\n",
    "\n",
    "user_prompt = f\"\"\"\n",
    "## Job Description:\n",
    "{job_page.text}\n",
    "\n",
    "## Candidate Resume:\n",
    "{my_resume}\n",
    "\"\"\"\n",
    "\n",
    "\n"
   ]
  },
  {
   "cell_type": "code",
   "execution_count": 32,
   "id": "51b290d9",
   "metadata": {},
   "outputs": [
    {
     "name": "stdout",
     "output_type": "stream",
     "text": [
      "\n",
      "🔍 [1] Scraping job listing from:\n",
      "https://www.dice.com/jobs?q=software+development&location=Georgia%2C+USA&latitude=32.1574351&longitude=-82.90712300000001&countryCode=US&locationPrecision=State&adminDistrictCode=GA&radiusUnit=mi\n",
      "\n",
      "📝 Summary from https://www.dice.com/jobs?q=software+development&location=Georgia%2C+USA&latitude=32.1574351&longitude=-82.90712300000001&countryCode=US&locationPrecision=State&adminDistrictCode=GA&radiusUnit=mi:\n",
      "\n",
      "To match the candidate with the job, I'll need to see their resume. Please provide it, and I'll be happy to assist.\n",
      "\n",
      "Once you share your resume, I can:\n",
      "\n",
      "1. Match the skills and experience listed on the resume with the requirements of each job listing.\n",
      "2. Calculate a score based on the matches (up to 100 points).\n",
      "3. Provide an explanation for the score and highlight key overlapping skills or experiences.\n",
      "\n",
      "Please paste your resume, and I'll get started!\n",
      "\n",
      "🔍 [2] Scraping job listing from:\n",
      "https://www.dice.com/jobs?q=AI+Engineer&location=Georgia%2C+USA&latitude=32.1574351&longitude=-82.90712300000001&countryCode=US&locationPrecision=State&adminDistrictCode=GA&radiusUnit=mi\n",
      "\n",
      "📝 Summary from https://www.dice.com/jobs?q=AI+Engineer&location=Georgia%2C+USA&latitude=32.1574351&longitude=-82.90712300000001&countryCode=US&locationPrecision=State&adminDistrictCode=GA&radiusUnit=mi:\n",
      "\n",
      "After analyzing the provided job listings, I will provide a match score, explanation, and highlight key overlapping skills or experience for each candidate.\n",
      "\n",
      "**Please note that this analysis is limited to the provided job postings and may not be exhaustive.**\n",
      "\n",
      "Here are the results:\n",
      "\n",
      "### AI Engineer (AlgebraIT)\n",
      "\n",
      "* **Match Score:** 60\n",
      "* **Explanation:** The candidate has relevant experience with Python, PySpark, Java programming, and Azure services. However, there is no mention of hands-on AI experience in a production environment.\n",
      "* **Highlighting Key Skills/Experience:** Relevant programming languages, Azure services, experience with DevOps tools.\n",
      "\n",
      "### Senior AI Engineer (KONNECTINGTREE INC)\n",
      "\n",
      "* **Match Score:** 80\n",
      "* **Explanation:** The candidate has deep expertise in feature engineering and model engineering, specifically working with large-scale datasets derived from enterprise Gmail environments. This experience is directly applicable to the job listing.\n",
      "* **Highlighting Key Skills/Experience:** Experience with machine learning models, feature engineering pipelines, data labeling strategies.\n",
      "\n",
      "### AI Engineer (BURGEON IT SERVICES LLC)\n",
      "\n",
      "* **Match Score:** 40\n",
      "* **Explanation:** The candidate has some experience with Python and AI/ML development. However, there is no mention of hands-on AI experience or specific expertise in areas relevant to the job listing.\n",
      "* **Highlighting Key Skills/Experience:** Basic programming skills, experience with Python.\n",
      "\n",
      "### Data AI Engineer (Galent)\n",
      "\n",
      "* **Match Score:** 70\n",
      "* **Explanation:** The candidate has strong background in building AI agents using frameworks like OpenAI SDK. This experience is relevant to the job listing's focus on LLMs and RAG architecture.\n",
      "* **Highlighting Key Skills/Experience:** Experience with OpenAI SDK, transformer architectures.\n",
      "\n",
      "### AI Engineer (HPTech Inc.)\n",
      "\n",
      "* **Match Score:** 50\n",
      "* **Explanation:** The candidate has some experience with Python and AI/ML development. However, there is no mention of hands-on AI experience or specific expertise in areas relevant to the job listing.\n",
      "* **Highlighting Key Skills/Experience:** Basic programming skills, experience with Python.\n",
      "\n",
      "### Gen AI Engineer (Techmatic Inc.)\n",
      "\n",
      "* **Match Score:** 60\n",
      "* **Explanation:** The candidate has some experience with generating AI agents and has worked on projects involving LLMs. However, there is no mention of specific expertise in areas relevant to the job listing.\n",
      "* **Highlighting Key Skills/Experience:** Experience with LLMs, generative AI.\n",
      "\n",
      "### AI Engineer (Mastech Digital)\n",
      "\n",
      "* **Match Score:** 40\n",
      "* **Explanation:** The candidate has some experience with Python and AI/ML development. However, there is no mention of hands-on AI experience or specific expertise in areas relevant to the job listing.\n",
      "* **Highlighting Key Skills/Experience:** Basic programming skills, experience with Python.\n",
      "\n",
      "### AI Engineer (Rishabh Software Pvt. Ltd)\n",
      "\n",
      "* **Match Score:** 60\n",
      "* **Explanation:** The candidate has some experience with building AI-driven web applications and has worked on projects involving agentic backend development. However, there is no mention of specific expertise in areas relevant to the job listing.\n",
      "* **Highlighting Key Skills/Experience:** Experience with Python, agentic backend development.\n",
      "\n",
      "### Remote AI Engineer (Kforce Technology Staffing)\n",
      "\n",
      "* **Match Score:** 40\n",
      "* **Explanation:** The candidate has some experience with building agents that connect with Microsoft Fabric Data Lake. However, there is no mention of specific expertise in areas relevant to the job listing.\n",
      "* **Highlighting Key Skills/Experience:** Basic programming skills, experience with Microsoft Fabric Data Lake.\n",
      "\n",
      "### Java Full stack + AI Engineer (Photon)\n",
      "\n",
      "* **Match Score:** 30\n",
      "* **Explanation:** The candidate has some experience with building digital experiences for Fortune 500 companies. However, there is no mention of specific expertise in areas relevant to the job listing.\n",
      "* **Highlighting Key Skills/Experience:** Experience with Java, digital modernization.\n",
      "\n",
      "### AI Engineer/Data scientist (Pro Integrate)\n",
      "\n",
      "* **Match Score:** 40\n",
      "* **Explanation:** The candidate has some experience with NVIDIA technologies and RAG optimization. However, there is no mention of specific expertise in areas relevant to the job listing.\n",
      "* **Highlighting Key Skills/Experience:** Experience with NVIDIA technologies, RAG optimization.\n",
      "\n",
      "### Gen AI Engineer (Whiztek Corp)\n",
      "\n",
      "* **Match Score:** 50\n",
      "* **Explanation:** The candidate has experience developing prototypes using one or more frameworks like Hugging Face and OpenAI API. This experience is relevant to the job listing's focus on LLMs.\n",
      "* **Highlighting Key Skills/Experience:** Experience with Hugging Face, OpenAI API.\n",
      "\n",
      "Please note that these scores are subjective and based on a limited analysis of the provided job postings.\n",
      "\n",
      "🔍 [3] Scraping job listing from:\n",
      "https://www.dice.com/jobs?adminDistrictCode=GA&countryCode=US&latitude=32.1574351&location=Georgia%2C+USA&locationPrecision=State&longitude=-82.90712300000001&q=frontend&radiusUnit=mi\n",
      "\n",
      "📝 Summary from https://www.dice.com/jobs?adminDistrictCode=GA&countryCode=US&latitude=32.1574351&location=Georgia%2C+USA&locationPrecision=State&longitude=-82.90712300000001&q=frontend&radiusUnit=mi:\n",
      "\n",
      "**Summary of the Job Listings**\n",
      "\n",
      "The job listings are for various Frontend Developer positions with a focus on JavaScript, HTML/CSS, and React/Angular. Some positions also require experience with Node.js, TypeScript, and backend development.\n",
      "\n",
      "**Job Requirements/Duties:**\n",
      "\n",
      "* Design, develop, and test mobile and desktop web software applications or systems\n",
      "* Develop Power Platform Applications, customized forms, and workflows using Power Automate\n",
      "* Create reusable UI components and powerful data visualizations for a broadband network monitoring and optimization platform\n",
      "* Implement cloud-based systems used by large corporations\n",
      "* Collaborate with designers, product managers, and backend developers to implement new features\n",
      "\n",
      "**Application Instructions:**\n",
      "\n",
      "* Apply filters to narrow down job listings based on work settings, employment type, and employer type\n",
      "* Click the \"Apply\" button next to each job listing to apply for the position\n",
      "\n",
      "**Candidate's Resume Analysis**\n",
      "\n",
      "To provide a match score, I'll need to know more about the candidate's resume. Please provide me with the candidate's resume, and I'll be happy to analyze it and provide feedback on the match score.\n",
      "\n",
      "Once you provide the candidate's resume, I can:\n",
      "\n",
      "1. Provide a match score from 0 to 100\n",
      "2. Explain the reasoning behind the score\n",
      "3. Highlight key overlapping skills or experience\n",
      "\n",
      "Please paste the candidate's resume in the next response.\n"
     ]
    }
   ],
   "source": [
    "# 🔁 List of job board URLs to scrape\n",
    "job_urls = [\n",
    "    \"https://www.dice.com/jobs?q=software+development&location=Georgia%2C+USA&latitude=32.1574351&longitude=-82.90712300000001&countryCode=US&locationPrecision=State&adminDistrictCode=GA&radiusUnit=mi\",\n",
    "    \"https://www.dice.com/jobs?q=AI+Engineer&location=Georgia%2C+USA&latitude=32.1574351&longitude=-82.90712300000001&countryCode=US&locationPrecision=State&adminDistrictCode=GA&radiusUnit=mi\",\n",
    "    \"https://www.dice.com/jobs?adminDistrictCode=GA&countryCode=US&latitude=32.1574351&location=Georgia%2C+USA&locationPrecision=State&longitude=-82.90712300000001&q=frontend&radiusUnit=mi\",\n",
    "]\n",
    "\n",
    "# 💡 Optional: Store all summaries in a list for later use\n",
    "job_summaries = []\n",
    "\n",
    "# 🧠 Loop through each job URL\n",
    "for idx, url in enumerate(job_urls, start=1):\n",
    "    try:\n",
    "        print(f\"\\n🔍 [{idx}] Scraping job listing from:\\n{url}\")\n",
    "\n",
    "        # Scrape and process the page\n",
    "        job_page = Job_Platform(url)\n",
    "        user_prompt = user_prompt_for(job_page)\n",
    "\n",
    "        # Ask Ollama for a summary\n",
    "        summary = ask_ollama(system_prompt, user_prompt)\n",
    "\n",
    "        # Print or collect the summary\n",
    "        print(f\"\\n📝 Summary from {url}:\\n\")\n",
    "        print(summary)\n",
    "\n",
    "        # Optional: Save for later\n",
    "        job_summaries.append({\n",
    "            \"url\": url,\n",
    "            \"title\": job_page.title,\n",
    "            \"summary\": summary\n",
    "        })\n",
    "\n",
    "    except Exception as e:\n",
    "        print(f\"❌ Failed to process {url}: {e}\")\n"
   ]
  },
  {
   "cell_type": "code",
   "execution_count": null,
   "id": "9a0d5f25",
   "metadata": {},
   "outputs": [],
   "source": []
  }
 ],
 "metadata": {
  "kernelspec": {
   "display_name": "job-copilot",
   "language": "python",
   "name": "python3"
  },
  "language_info": {
   "codemirror_mode": {
    "name": "ipython",
    "version": 3
   },
   "file_extension": ".py",
   "mimetype": "text/x-python",
   "name": "python",
   "nbconvert_exporter": "python",
   "pygments_lexer": "ipython3",
   "version": "3.12.7"
  }
 },
 "nbformat": 4,
 "nbformat_minor": 5
}
