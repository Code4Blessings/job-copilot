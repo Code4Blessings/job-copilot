# Imports

import os
import ollama
import requests
from bs4 import BeautifulSoup
from IPython.display import Markdown, display


import sys
print(sys.executable)


# Constants

OLLAMA_API = "http://localhost:11434/api/chat"
HEADERS = {"Content-Type": "application/json"}
MODEL = "llama3.2"


# Create a messages list using the same format that we used for OpenAI

messages = [
    {"role": "user", "content": "Say hello to Robin!"}
]


payload = {
        "model": MODEL,
        "messages": messages,
        "stream": False
    }


# Let's just make sure the model is loaded

!ollama pull llama3.2


response = requests.post(OLLAMA_API, json=payload, headers=HEADERS)
print(response.json()['message']['content'])


# 🏗️ Class to represent a job listing webpage

class Job_Platform:
    def __init__(self, url):
        self.url = url
        response = requests.get(url, headers=headers)
        soup = BeautifulSoup(response.content, 'html.parser')
        self.title = soup.title.string if soup.title else "No title found"

        # Remove unwanted tags
        for irrelevant in soup.body(["script", "style", "img", "input"]):
            irrelevant.decompose()

        self.text = soup.body.get_text(separator="\n", strip=True)



# 💬 Build a user prompt from the job listing
def user_prompt_for(job_listing):
    user_prompt = f"You are looking at a job listing titled: {job_listing.title}\n"
    user_prompt += "The contents of this listing are as follows. Please provide a short summary in markdown format. \
If there are job requirements, duties, or application instructions, highlight them:\n\n"
    user_prompt += job_listing.text
    return user_prompt



# 🧠 Send the user/system prompt to OpenAI
def ask_openai(system_prompt, user_prompt, model=MODEL):
    response = openai.chat.completions.create(
        model=model,
        messages=[
            {"role": "system", "content": system_prompt},
            {"role": "user", "content": user_prompt},
        ],
        temperature=0.2
    )
    return response.choices[0].message.content



# 📂 Load resume from file
with open("resume.txt", "r") as file:
    my_resume = file.read()



print(my_resume[:500])  # Show the first 500 characters to make sure it loaded



# 📝 Define the system's behavior
system_prompt = (
    "You are a job assistant. I will give you a job listing, and you must compare it with my resume. "
    "If it's a good match, summarize the job in markdown and say why it's a fit. If it's not, reply: 'Not a match.'\n\n"
    f"My resume:\n{my_resume}"
)




# 🚀 Test the job finder on a real job listing
test_url = "https://remoteok.com/remote-javascript-jobs"  #Replace with the url of the job listing you want to test
# Initialize the page and build the prompt
job_page = Job_Platform(test_url)
user_prompt = user_prompt_for(job_page)

# Call OpenAI
summary = ask_openai(system_prompt, user_prompt)

# Show result
print(summary)




